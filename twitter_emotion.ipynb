{
  "cells": [
    {
      "cell_type": "markdown",
      "metadata": {
        "id": "view-in-github",
        "colab_type": "text"
      },
      "source": [
        "<a href=\"https://colab.research.google.com/github/sazanka0401/twitter_emotion/blob/main/twitter_emotion.ipynb\" target=\"_parent\"><img src=\"https://colab.research.google.com/assets/colab-badge.svg\" alt=\"Open In Colab\"/></a>"
      ]
    },
    {
      "cell_type": "code",
      "execution_count": null,
      "id": "5961d282",
      "metadata": {
        "id": "5961d282",
        "outputId": "a95be2c8-ac38-4647-eb19-78c2edd6b54b"
      },
      "outputs": [
        {
          "name": "stderr",
          "output_type": "stream",
          "text": [
            "[nltk_data] Downloading package vader_lexicon to\n",
            "[nltk_data]     C:\\Users\\yamashiro_kaine\\AppData\\Roaming\\nltk_data...\n"
          ]
        },
        {
          "data": {
            "text/plain": [
              "True"
            ]
          },
          "execution_count": 3,
          "metadata": {},
          "output_type": "execute_result"
        }
      ],
      "source": [
        "import nltk\n",
        "nltk.download('vader_lexicon')"
      ]
    },
    {
      "cell_type": "code",
      "execution_count": null,
      "id": "5fa5b50e",
      "metadata": {
        "id": "5fa5b50e"
      },
      "outputs": [],
      "source": [
        "from textblob import TextBlob\n",
        "import sys\n",
        "import tweepy\n",
        "import matplotlib.pyplot as plt\n",
        "import pandas as pd\n",
        "import numpy as np\n",
        "import os\n",
        "import nltk\n",
        "import pycountry\n",
        "import re\n",
        "import string\n",
        "from PIL import Image\n",
        "from nltk.sentiment.vader import SentimentIntensityAnalyzer\n",
        "from langdetect import detect\n",
        "from nltk.stem import SnowballStemmer\n",
        "from nltk.sentiment.vader import SentimentIntensityAnalyzer\n",
        "from sklearn.feature_extraction.text import CountVectorizer"
      ]
    },
    {
      "cell_type": "code",
      "execution_count": null,
      "id": "ea47569e",
      "metadata": {
        "id": "ea47569e"
      },
      "outputs": [],
      "source": [
        "# Authentication\n",
        "consumerKey = '7UAS2cLvFKueOz7lsMB6MHvF8'\n",
        "consumerSecret = 'JhFGroAGi1RI2buJc3z3Krhai9hdKqDBxo0SM1s87nxc6K7fG1'\n",
        "accessToken = '1505927196938227712-VCBLTFslvXj0CxBLVKarcNp78nt5S2'\n",
        "accessTokenSecret = 'sqt90y248k48izPNmJExeGDbZY67a0fsa3bDDMXKDkLZ5'\n",
        "auth = tweepy.OAuthHandler(consumerKey, consumerSecret)\n",
        "auth.set_access_token(accessToken, accessTokenSecret)\n",
        "api = tweepy.API(auth)"
      ]
    },
    {
      "cell_type": "code",
      "execution_count": null,
      "id": "bfe96a35",
      "metadata": {
        "id": "bfe96a35",
        "outputId": "7681c11b-2e8b-40b7-c497-0f6a84bde4c5"
      },
      "outputs": [
        {
          "name": "stdout",
          "output_type": "stream",
          "text": [
            "Please enter keyword or hashtag to search: splatoon3\n",
            "Please enter how many tweets to analyze: 2000\n"
          ]
        }
      ],
      "source": [
        "#Sentiment Analysis\n",
        "\n",
        "def percentage(part, whole):\n",
        "    return 100*float(part)/float(whole)\n",
        "\n",
        "keyword = input(\"Please enter keyword or hashtag to search: \")\n",
        "get_tweet = int(input (\"Please enter how many tweets to analyze: \"))  \n",
        "\n",
        "tweets = tweepy.Cursor(api.search_tweets, q=keyword).items(get_tweet)\n",
        "positive = 0\n",
        "negative = 0\n",
        "neutral = 0\n",
        "polarity = 0\n",
        "tweet_list = []\n",
        "neutral_list = []\n",
        "negative_list = []\n",
        "positive_list = []\n",
        "\n",
        "for t in tweets:\n",
        "    # print(t.text)\n",
        "    tweet_list.append(t.text)\n",
        "    analysis = TextBlob(t.text)\n",
        "    score = SentimentIntensityAnalyzer().polarity_scores(t.text)\n",
        "    neg = score['neg']\n",
        "    neu = score['neu']\n",
        "    pos = score['pos']\n",
        "    com = score['compound']\n",
        "    polarity += analysis.sentiment.polarity\n",
        "\n",
        "    if neg > pos:\n",
        "        negative_list.append(t.text)\n",
        "        neg += 1\n",
        "\n",
        "    elif pos > neg:\n",
        "        positive_list.append(t.text)\n",
        "        pos += 1\n",
        "\n",
        "    elif pos == neg:\n",
        "        neutral_list.append(t.text)\n",
        "        neu += 1\n",
        "pos = percentage(pos, get_tweet)\n",
        "neg = percentage(neg, get_tweet)\n",
        "neu = percentage(neu, get_tweet)\n",
        "pol = percentage(polarity, get_tweet)\n",
        "positive = format(pos, '.1f')\n",
        "negative = format(neg, '.1f')\n",
        "neutral = format(neu, '.1f')"
      ]
    },
    {
      "cell_type": "code",
      "execution_count": null,
      "id": "ee834b9b",
      "metadata": {
        "id": "ee834b9b",
        "outputId": "d2cf99ee-3244-44d8-a9fd-e728b4ee9311"
      },
      "outputs": [
        {
          "name": "stdout",
          "output_type": "stream",
          "text": [
            "total:  2000\n",
            "positive:  504\n",
            "negative:  113\n",
            "neutral:  1383\n"
          ]
        }
      ],
      "source": [
        "#Number of Tweets (Total, Positive, Negative, Neutral)\n",
        "tweet_list = pd.DataFrame(tweet_list)\n",
        "neutral_list = pd.DataFrame(neutral_list)\n",
        "negative_list = pd.DataFrame(negative_list)\n",
        "positive_list = pd.DataFrame(positive_list)\n",
        "print(\"total: \",len(tweet_list))\n",
        "print(\"positive: \",len(positive_list))\n",
        "print(\"negative: \", len(negative_list))\n",
        "print(\"neutral: \",len(neutral_list))"
      ]
    },
    {
      "cell_type": "code",
      "execution_count": null,
      "id": "5289866c",
      "metadata": {
        "id": "5289866c",
        "outputId": "356f6508-30e5-437a-a6a0-757cc3fd4f42"
      },
      "outputs": [
        {
          "data": {
            "text/html": [
              "<div>\n",
              "<style scoped>\n",
              "    .dataframe tbody tr th:only-of-type {\n",
              "        vertical-align: middle;\n",
              "    }\n",
              "\n",
              "    .dataframe tbody tr th {\n",
              "        vertical-align: top;\n",
              "    }\n",
              "\n",
              "    .dataframe thead th {\n",
              "        text-align: right;\n",
              "    }\n",
              "</style>\n",
              "<table border=\"1\" class=\"dataframe\">\n",
              "  <thead>\n",
              "    <tr style=\"text-align: right;\">\n",
              "      <th></th>\n",
              "      <th>0</th>\n",
              "    </tr>\n",
              "  </thead>\n",
              "  <tbody>\n",
              "    <tr>\n",
              "      <th>0</th>\n",
              "      <td>RT @curry_no_umami: ヨルさんコスのアオリちゃん\\n\\n#Splatoon...</td>\n",
              "    </tr>\n",
              "    <tr>\n",
              "      <th>1</th>\n",
              "      <td>RT @curry_no_umami: ヨルさんコスのアオリちゃん\\n\\n#Splatoon...</td>\n",
              "    </tr>\n",
              "    <tr>\n",
              "      <th>2</th>\n",
              "      <td>最後の2位は惜しかった🥺🥺相手赤アーマーだったけどなんとか戦えてたしいい感じになってきてる</td>\n",
              "    </tr>\n",
              "    <tr>\n",
              "      <th>3</th>\n",
              "      <td>RT @AliHeart2468: 🌌 - Aurora Night  1/2\\n\\n• S...</td>\n",
              "    </tr>\n",
              "    <tr>\n",
              "      <th>4</th>\n",
              "      <td>RT @MangeDuGruau: \"Lil Judd, what happened to ...</td>\n",
              "    </tr>\n",
              "    <tr>\n",
              "      <th>...</th>\n",
              "      <td>...</td>\n",
              "    </tr>\n",
              "    <tr>\n",
              "      <th>1995</th>\n",
              "      <td>RT @BroSauce_Spaget: octo twitter moment #Spla...</td>\n",
              "    </tr>\n",
              "    <tr>\n",
              "      <th>1996</th>\n",
              "      <td>RT @Darkklawl: Request from @BrandonOctoling \\...</td>\n",
              "    </tr>\n",
              "    <tr>\n",
              "      <th>1997</th>\n",
              "      <td>RT @Maruu_n8: げきあつやん https://t.co/HwnYSD5nCI</td>\n",
              "    </tr>\n",
              "    <tr>\n",
              "      <th>1998</th>\n",
              "      <td>RT @clau_pura: Tiny\\n\\n#スプラトゥーン3 #Splatoon3 #S...</td>\n",
              "    </tr>\n",
              "    <tr>\n",
              "      <th>1999</th>\n",
              "      <td>RT @FabienDuvoisin: Happy birthday to this gam...</td>\n",
              "    </tr>\n",
              "  </tbody>\n",
              "</table>\n",
              "<p>2000 rows × 1 columns</p>\n",
              "</div>"
            ],
            "text/plain": [
              "                                                      0\n",
              "0     RT @curry_no_umami: ヨルさんコスのアオリちゃん\\n\\n#Splatoon...\n",
              "1     RT @curry_no_umami: ヨルさんコスのアオリちゃん\\n\\n#Splatoon...\n",
              "2         最後の2位は惜しかった🥺🥺相手赤アーマーだったけどなんとか戦えてたしいい感じになってきてる\n",
              "3     RT @AliHeart2468: 🌌 - Aurora Night  1/2\\n\\n• S...\n",
              "4     RT @MangeDuGruau: \"Lil Judd, what happened to ...\n",
              "...                                                 ...\n",
              "1995  RT @BroSauce_Spaget: octo twitter moment #Spla...\n",
              "1996  RT @Darkklawl: Request from @BrandonOctoling \\...\n",
              "1997       RT @Maruu_n8: げきあつやん https://t.co/HwnYSD5nCI\n",
              "1998  RT @clau_pura: Tiny\\n\\n#スプラトゥーン3 #Splatoon3 #S...\n",
              "1999  RT @FabienDuvoisin: Happy birthday to this gam...\n",
              "\n",
              "[2000 rows x 1 columns]"
            ]
          },
          "execution_count": 7,
          "metadata": {},
          "output_type": "execute_result"
        }
      ],
      "source": [
        "tweet_list"
      ]
    },
    {
      "cell_type": "code",
      "execution_count": null,
      "id": "587adc01",
      "metadata": {
        "id": "587adc01"
      },
      "outputs": [],
      "source": [
        "tweet_list.drop_duplicates(inplace = True)"
      ]
    },
    {
      "cell_type": "code",
      "execution_count": null,
      "id": "4a1e9d4b",
      "metadata": {
        "id": "4a1e9d4b",
        "outputId": "7e4dab3a-850a-4bb3-97b3-274187193383"
      },
      "outputs": [
        {
          "data": {
            "text/html": [
              "<div>\n",
              "<style scoped>\n",
              "    .dataframe tbody tr th:only-of-type {\n",
              "        vertical-align: middle;\n",
              "    }\n",
              "\n",
              "    .dataframe tbody tr th {\n",
              "        vertical-align: top;\n",
              "    }\n",
              "\n",
              "    .dataframe thead th {\n",
              "        text-align: right;\n",
              "    }\n",
              "</style>\n",
              "<table border=\"1\" class=\"dataframe\">\n",
              "  <thead>\n",
              "    <tr style=\"text-align: right;\">\n",
              "      <th></th>\n",
              "      <th>0</th>\n",
              "      <th>text</th>\n",
              "    </tr>\n",
              "  </thead>\n",
              "  <tbody>\n",
              "    <tr>\n",
              "      <th>0</th>\n",
              "      <td>RT @curry_no_umami: ヨルさんコスのアオリちゃん\\n\\n#Splatoon...</td>\n",
              "      <td>RT @curry_no_umami: ヨルさんコスのアオリちゃん\\n\\n#Splatoon...</td>\n",
              "    </tr>\n",
              "    <tr>\n",
              "      <th>2</th>\n",
              "      <td>最後の2位は惜しかった🥺🥺相手赤アーマーだったけどなんとか戦えてたしいい感じになってきてる</td>\n",
              "      <td>最後の2位は惜しかった🥺🥺相手赤アーマーだったけどなんとか戦えてたしいい感じになってきてる</td>\n",
              "    </tr>\n",
              "    <tr>\n",
              "      <th>3</th>\n",
              "      <td>RT @AliHeart2468: 🌌 - Aurora Night  1/2\\n\\n• S...</td>\n",
              "      <td>RT @AliHeart2468: 🌌 - Aurora Night  1/2\\n\\n• S...</td>\n",
              "    </tr>\n",
              "    <tr>\n",
              "      <th>4</th>\n",
              "      <td>RT @MangeDuGruau: \"Lil Judd, what happened to ...</td>\n",
              "      <td>RT @MangeDuGruau: \"Lil Judd, what happened to ...</td>\n",
              "    </tr>\n",
              "    <tr>\n",
              "      <th>5</th>\n",
              "      <td>RT @InklingAmira: The new Angle Shooter turns ...</td>\n",
              "      <td>RT @InklingAmira: The new Angle Shooter turns ...</td>\n",
              "    </tr>\n",
              "    <tr>\n",
              "      <th>...</th>\n",
              "      <td>...</td>\n",
              "      <td>...</td>\n",
              "    </tr>\n",
              "    <tr>\n",
              "      <th>1977</th>\n",
              "      <td>@ruitso_game るいちゃんおはよ！雨だからとかいろいろ理由つけてチャリ通勤サボりが...</td>\n",
              "      <td>@ruitso_game るいちゃんおはよ！雨だからとかいろいろ理由つけてチャリ通勤サボりが...</td>\n",
              "    </tr>\n",
              "    <tr>\n",
              "      <th>1983</th>\n",
              "      <td>RT @syn_park_: Drawing my Inklings while waiti...</td>\n",
              "      <td>RT @syn_park_: Drawing my Inklings while waiti...</td>\n",
              "    </tr>\n",
              "    <tr>\n",
              "      <th>1987</th>\n",
              "      <td>They met on their way to Splatsville\\n\\n#Splat...</td>\n",
              "      <td>They met on their way to Splatsville\\n\\n#Splat...</td>\n",
              "    </tr>\n",
              "    <tr>\n",
              "      <th>1988</th>\n",
              "      <td>ネカマの募集に集まってくれる方たちいつもありがとう🥺</td>\n",
              "      <td>ネカマの募集に集まってくれる方たちいつもありがとう🥺</td>\n",
              "    </tr>\n",
              "    <tr>\n",
              "      <th>1997</th>\n",
              "      <td>RT @Maruu_n8: げきあつやん https://t.co/HwnYSD5nCI</td>\n",
              "      <td>RT @Maruu_n8: げきあつやん https://t.co/HwnYSD5nCI</td>\n",
              "    </tr>\n",
              "  </tbody>\n",
              "</table>\n",
              "<p>553 rows × 2 columns</p>\n",
              "</div>"
            ],
            "text/plain": [
              "                                                      0  \\\n",
              "0     RT @curry_no_umami: ヨルさんコスのアオリちゃん\\n\\n#Splatoon...   \n",
              "2         最後の2位は惜しかった🥺🥺相手赤アーマーだったけどなんとか戦えてたしいい感じになってきてる   \n",
              "3     RT @AliHeart2468: 🌌 - Aurora Night  1/2\\n\\n• S...   \n",
              "4     RT @MangeDuGruau: \"Lil Judd, what happened to ...   \n",
              "5     RT @InklingAmira: The new Angle Shooter turns ...   \n",
              "...                                                 ...   \n",
              "1977  @ruitso_game るいちゃんおはよ！雨だからとかいろいろ理由つけてチャリ通勤サボりが...   \n",
              "1983  RT @syn_park_: Drawing my Inklings while waiti...   \n",
              "1987  They met on their way to Splatsville\\n\\n#Splat...   \n",
              "1988                         ネカマの募集に集まってくれる方たちいつもありがとう🥺   \n",
              "1997       RT @Maruu_n8: げきあつやん https://t.co/HwnYSD5nCI   \n",
              "\n",
              "                                                   text  \n",
              "0     RT @curry_no_umami: ヨルさんコスのアオリちゃん\\n\\n#Splatoon...  \n",
              "2         最後の2位は惜しかった🥺🥺相手赤アーマーだったけどなんとか戦えてたしいい感じになってきてる  \n",
              "3     RT @AliHeart2468: 🌌 - Aurora Night  1/2\\n\\n• S...  \n",
              "4     RT @MangeDuGruau: \"Lil Judd, what happened to ...  \n",
              "5     RT @InklingAmira: The new Angle Shooter turns ...  \n",
              "...                                                 ...  \n",
              "1977  @ruitso_game るいちゃんおはよ！雨だからとかいろいろ理由つけてチャリ通勤サボりが...  \n",
              "1983  RT @syn_park_: Drawing my Inklings while waiti...  \n",
              "1987  They met on their way to Splatsville\\n\\n#Splat...  \n",
              "1988                         ネカマの募集に集まってくれる方たちいつもありがとう🥺  \n",
              "1997       RT @Maruu_n8: げきあつやん https://t.co/HwnYSD5nCI  \n",
              "\n",
              "[553 rows x 2 columns]"
            ]
          },
          "execution_count": 9,
          "metadata": {},
          "output_type": "execute_result"
        }
      ],
      "source": [
        "tw_list = pd.DataFrame(tweet_list)\n",
        "tw_list[\"text\"] = tw_list[0]\n",
        "tw_list\n",
        "\n",
        "pd."
      ]
    },
    {
      "cell_type": "code",
      "execution_count": null,
      "id": "4cc75161",
      "metadata": {
        "id": "4cc75161"
      },
      "outputs": [],
      "source": [
        ""
      ]
    }
  ],
  "metadata": {
    "kernelspec": {
      "display_name": "Python 3 (ipykernel)",
      "language": "python",
      "name": "python3"
    },
    "language_info": {
      "codemirror_mode": {
        "name": "ipython",
        "version": 3
      },
      "file_extension": ".py",
      "mimetype": "text/x-python",
      "name": "python",
      "nbconvert_exporter": "python",
      "pygments_lexer": "ipython3",
      "version": "3.9.7"
    },
    "colab": {
      "name": "twitter_emotion.ipynb",
      "provenance": [],
      "include_colab_link": true
    }
  },
  "nbformat": 4,
  "nbformat_minor": 5
}